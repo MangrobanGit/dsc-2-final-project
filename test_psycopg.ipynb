{
 "cells": [
  {
   "cell_type": "code",
   "execution_count": 1,
   "metadata": {},
   "outputs": [],
   "source": [
    "import psycopg2"
   ]
  },
  {
   "cell_type": "code",
   "execution_count": 3,
   "metadata": {},
   "outputs": [],
   "source": [
    "conn = psycopg2.connect(\"dbname=soccer\")"
   ]
  },
  {
   "cell_type": "code",
   "execution_count": 8,
   "metadata": {},
   "outputs": [],
   "source": [
    "cur = conn.cursor()"
   ]
  },
  {
   "cell_type": "code",
   "execution_count": 15,
   "metadata": {},
   "outputs": [],
   "source": [
    "query = \"\"\"\n",
    "    SELECT \n",
    "        --l.name as league_name\n",
    "        --,c.name as country_name\n",
    "        *\n",
    "    FROM country c\n",
    "    INNER JOIN league l on c.id = l.country_id\n",
    "    ;\n",
    "\"\"\""
   ]
  },
  {
   "cell_type": "code",
   "execution_count": 18,
   "metadata": {},
   "outputs": [],
   "source": [
    "query2 = \"\"\"\n",
    "    select \n",
    "        *\n",
    "    from\n",
    "        league;\n",
    "\"\"\""
   ]
  },
  {
   "cell_type": "code",
   "execution_count": 19,
   "metadata": {},
   "outputs": [],
   "source": [
    "cur.execute(query2)"
   ]
  },
  {
   "cell_type": "code",
   "execution_count": 20,
   "metadata": {},
   "outputs": [
    {
     "name": "stdout",
     "output_type": "stream",
     "text": [
      "(1, 1, 'Belgium Jupiler League')\n",
      "(1729, 1729, 'England Premier League')\n",
      "(4769, 4769, 'France Ligue 1')\n",
      "(7809, 7809, 'Germany 1. Bundesliga')\n",
      "(10257, 10257, 'Italy Serie A')\n",
      "(13274, 13274, 'Netherlands Eredivisie')\n",
      "(15722, 15722, 'Poland Ekstraklasa')\n",
      "(17642, 17642, 'Portugal Liga ZON Sagres')\n",
      "(19694, 19694, 'Scotland Premier League')\n",
      "(21518, 21518, 'Spain LIGA BBVA')\n",
      "(24558, 24558, 'Switzerland Super League')\n"
     ]
    }
   ],
   "source": [
    "for item in cur:\n",
    "    print(item)"
   ]
  },
  {
   "cell_type": "code",
   "execution_count": null,
   "metadata": {},
   "outputs": [],
   "source": []
  }
 ],
 "metadata": {
  "kernelspec": {
   "display_name": "learn-env",
   "language": "python",
   "name": "learn-env"
  },
  "language_info": {
   "codemirror_mode": {
    "name": "ipython",
    "version": 3
   },
   "file_extension": ".py",
   "mimetype": "text/x-python",
   "name": "python",
   "nbconvert_exporter": "python",
   "pygments_lexer": "ipython3",
   "version": "3.6.6"
  }
 },
 "nbformat": 4,
 "nbformat_minor": 2
}
