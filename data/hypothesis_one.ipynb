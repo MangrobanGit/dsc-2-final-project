{
 "cells": [
  {
   "cell_type": "markdown",
   "metadata": {},
   "source": [
    "### Getting Data from PostgreSQL DB"
   ]
  },
  {
   "cell_type": "markdown",
   "metadata": {},
   "source": [
    "Prior to this we have successfull obtained our dataset from Kaggle and migrated it from a `sqlite` database to a `PostgreSQL` database. Now we can query from it using the `psycopg2` package."
   ]
  },
  {
   "cell_type": "markdown",
   "metadata": {},
   "source": [
    "#### Required Packages"
   ]
  },
  {
   "cell_type": "code",
   "execution_count": 94,
   "metadata": {},
   "outputs": [],
   "source": [
    "import pandas as pd       # Data manipulation\n",
    "import psycopg2           # Query against psql dbs\n",
    "import numpy as np        # math and arrays\n",
    "import matplotlib.pyplot as plt # plotting\n",
    "from scipy import stats # Stats calculations\n",
    "import seaborn as sns\n",
    "\n",
    "import custom # team custom library of project functions"
   ]
  },
  {
   "cell_type": "markdown",
   "metadata": {},
   "source": [
    "#### Create Connection\n",
    "\n",
    "We stored out data in a `PostgreSQL` database named `soccer`."
   ]
  },
  {
   "cell_type": "code",
   "execution_count": 95,
   "metadata": {},
   "outputs": [],
   "source": [
    "conn = psycopg2.connect(\"dbname=soccer\")"
   ]
  },
  {
   "cell_type": "markdown",
   "metadata": {},
   "source": [
    "---"
   ]
  },
  {
   "cell_type": "markdown",
   "metadata": {},
   "source": [
    "### Set up queries\n",
    "\n",
    "We will write queries for each of our proposed hypothesis tests."
   ]
  },
  {
   "cell_type": "markdown",
   "metadata": {},
   "source": [
    "#### 1) Is there a statistical difference in the odds of winning a game when a team is playing in front of their home crowd?"
   ]
  },
  {
   "cell_type": "code",
   "execution_count": 96,
   "metadata": {},
   "outputs": [],
   "source": [
    "query_1 = \"\"\"\n",
    "    select\n",
    "        c.name as country_name\n",
    "        ,l.name as league_name\n",
    "        ,ht.team_short_name as home_team_short_name\n",
    "        ,ht.team_long_name as home_team_long_name\n",
    "        ,at.team_short_name as away_team_short_name\n",
    "        ,at.team_long_name as away_team_long_name\n",
    "        ,m.season, m.stage, m.date, m.match_api_id\n",
    "        ,m.home_team_goal, m.away_team_goal\n",
    "        \n",
    "    from\n",
    "        match m\n",
    "        inner join country c on m.country_id = c.id\n",
    "        inner join league l on m.league_id = l.id\n",
    "        inner join team ht on m.home_team_api_id = ht.team_api_id\n",
    "        inner join team at on m.away_team_api_id = at.team_api_id\n",
    "    ;\n",
    "\"\"\""
   ]
  },
  {
   "cell_type": "markdown",
   "metadata": {},
   "source": [
    "### Run queries, put contents into pandas DataFrame"
   ]
  },
  {
   "cell_type": "code",
   "execution_count": 97,
   "metadata": {},
   "outputs": [],
   "source": [
    "cur = conn.cursor()\n",
    "cur.execute(query_1)"
   ]
  },
  {
   "cell_type": "code",
   "execution_count": 98,
   "metadata": {},
   "outputs": [],
   "source": [
    "soccer = pd.DataFrame(cur.fetchall())\n",
    "soccer.columns = [desc[0] for desc in cur.description]"
   ]
  },
  {
   "cell_type": "code",
   "execution_count": 99,
   "metadata": {},
   "outputs": [
    {
     "data": {
      "text/html": [
       "<div>\n",
       "<style scoped>\n",
       "    .dataframe tbody tr th:only-of-type {\n",
       "        vertical-align: middle;\n",
       "    }\n",
       "\n",
       "    .dataframe tbody tr th {\n",
       "        vertical-align: top;\n",
       "    }\n",
       "\n",
       "    .dataframe thead th {\n",
       "        text-align: right;\n",
       "    }\n",
       "</style>\n",
       "<table border=\"1\" class=\"dataframe\">\n",
       "  <thead>\n",
       "    <tr style=\"text-align: right;\">\n",
       "      <th></th>\n",
       "      <th>0</th>\n",
       "      <th>1</th>\n",
       "      <th>2</th>\n",
       "      <th>3</th>\n",
       "      <th>4</th>\n",
       "      <th>5</th>\n",
       "      <th>6</th>\n",
       "      <th>7</th>\n",
       "      <th>8</th>\n",
       "      <th>9</th>\n",
       "    </tr>\n",
       "  </thead>\n",
       "  <tbody>\n",
       "    <tr>\n",
       "      <th>country_name</th>\n",
       "      <td>Belgium</td>\n",
       "      <td>Belgium</td>\n",
       "      <td>Belgium</td>\n",
       "      <td>Belgium</td>\n",
       "      <td>Belgium</td>\n",
       "      <td>Belgium</td>\n",
       "      <td>Belgium</td>\n",
       "      <td>Belgium</td>\n",
       "      <td>Belgium</td>\n",
       "      <td>Belgium</td>\n",
       "    </tr>\n",
       "    <tr>\n",
       "      <th>league_name</th>\n",
       "      <td>Belgium Jupiler League</td>\n",
       "      <td>Belgium Jupiler League</td>\n",
       "      <td>Belgium Jupiler League</td>\n",
       "      <td>Belgium Jupiler League</td>\n",
       "      <td>Belgium Jupiler League</td>\n",
       "      <td>Belgium Jupiler League</td>\n",
       "      <td>Belgium Jupiler League</td>\n",
       "      <td>Belgium Jupiler League</td>\n",
       "      <td>Belgium Jupiler League</td>\n",
       "      <td>Belgium Jupiler League</td>\n",
       "    </tr>\n",
       "    <tr>\n",
       "      <th>home_team_short_name</th>\n",
       "      <td>GEN</td>\n",
       "      <td>ZUL</td>\n",
       "      <td>CEB</td>\n",
       "      <td>GEN</td>\n",
       "      <td>DEN</td>\n",
       "      <td>MEC</td>\n",
       "      <td>ROS</td>\n",
       "      <td>TUB</td>\n",
       "      <td>WES</td>\n",
       "      <td>CLB</td>\n",
       "    </tr>\n",
       "    <tr>\n",
       "      <th>home_team_long_name</th>\n",
       "      <td>KRC Genk</td>\n",
       "      <td>SV Zulte-Waregem</td>\n",
       "      <td>KSV Cercle Brugge</td>\n",
       "      <td>KAA Gent</td>\n",
       "      <td>FCV Dender EH</td>\n",
       "      <td>KV Mechelen</td>\n",
       "      <td>KSV Roeselare</td>\n",
       "      <td>Tubize</td>\n",
       "      <td>KVC Westerlo</td>\n",
       "      <td>Club Brugge KV</td>\n",
       "    </tr>\n",
       "    <tr>\n",
       "      <th>away_team_short_name</th>\n",
       "      <td>BAC</td>\n",
       "      <td>LOK</td>\n",
       "      <td>AND</td>\n",
       "      <td>MON</td>\n",
       "      <td>STL</td>\n",
       "      <td>CLB</td>\n",
       "      <td>KOR</td>\n",
       "      <td>MOU</td>\n",
       "      <td>CHA</td>\n",
       "      <td>KOR</td>\n",
       "    </tr>\n",
       "    <tr>\n",
       "      <th>away_team_long_name</th>\n",
       "      <td>Beerschot AC</td>\n",
       "      <td>Sporting Lokeren</td>\n",
       "      <td>RSC Anderlecht</td>\n",
       "      <td>RAEC Mons</td>\n",
       "      <td>Standard de Liège</td>\n",
       "      <td>Club Brugge KV</td>\n",
       "      <td>KV Kortrijk</td>\n",
       "      <td>Royal Excel Mouscron</td>\n",
       "      <td>Sporting Charleroi</td>\n",
       "      <td>KV Kortrijk</td>\n",
       "    </tr>\n",
       "    <tr>\n",
       "      <th>season</th>\n",
       "      <td>2008/2009</td>\n",
       "      <td>2008/2009</td>\n",
       "      <td>2008/2009</td>\n",
       "      <td>2008/2009</td>\n",
       "      <td>2008/2009</td>\n",
       "      <td>2008/2009</td>\n",
       "      <td>2008/2009</td>\n",
       "      <td>2008/2009</td>\n",
       "      <td>2008/2009</td>\n",
       "      <td>2008/2009</td>\n",
       "    </tr>\n",
       "    <tr>\n",
       "      <th>stage</th>\n",
       "      <td>1</td>\n",
       "      <td>1</td>\n",
       "      <td>1</td>\n",
       "      <td>1</td>\n",
       "      <td>1</td>\n",
       "      <td>1</td>\n",
       "      <td>1</td>\n",
       "      <td>1</td>\n",
       "      <td>1</td>\n",
       "      <td>10</td>\n",
       "    </tr>\n",
       "    <tr>\n",
       "      <th>date</th>\n",
       "      <td>2008-08-17 00:00:00</td>\n",
       "      <td>2008-08-16 00:00:00</td>\n",
       "      <td>2008-08-16 00:00:00</td>\n",
       "      <td>2008-08-17 00:00:00</td>\n",
       "      <td>2008-08-16 00:00:00</td>\n",
       "      <td>2008-09-24 00:00:00</td>\n",
       "      <td>2008-08-16 00:00:00</td>\n",
       "      <td>2008-08-16 00:00:00</td>\n",
       "      <td>2008-08-16 00:00:00</td>\n",
       "      <td>2008-11-01 00:00:00</td>\n",
       "    </tr>\n",
       "    <tr>\n",
       "      <th>match_api_id</th>\n",
       "      <td>492473</td>\n",
       "      <td>492474</td>\n",
       "      <td>492475</td>\n",
       "      <td>492476</td>\n",
       "      <td>492477</td>\n",
       "      <td>492478</td>\n",
       "      <td>492479</td>\n",
       "      <td>492480</td>\n",
       "      <td>492481</td>\n",
       "      <td>492564</td>\n",
       "    </tr>\n",
       "    <tr>\n",
       "      <th>home_team_goal</th>\n",
       "      <td>1</td>\n",
       "      <td>0</td>\n",
       "      <td>0</td>\n",
       "      <td>5</td>\n",
       "      <td>1</td>\n",
       "      <td>1</td>\n",
       "      <td>2</td>\n",
       "      <td>1</td>\n",
       "      <td>1</td>\n",
       "      <td>4</td>\n",
       "    </tr>\n",
       "    <tr>\n",
       "      <th>away_team_goal</th>\n",
       "      <td>1</td>\n",
       "      <td>0</td>\n",
       "      <td>3</td>\n",
       "      <td>0</td>\n",
       "      <td>3</td>\n",
       "      <td>1</td>\n",
       "      <td>2</td>\n",
       "      <td>2</td>\n",
       "      <td>0</td>\n",
       "      <td>1</td>\n",
       "    </tr>\n",
       "  </tbody>\n",
       "</table>\n",
       "</div>"
      ],
      "text/plain": [
       "                                           0                       1  \\\n",
       "country_name                         Belgium                 Belgium   \n",
       "league_name           Belgium Jupiler League  Belgium Jupiler League   \n",
       "home_team_short_name                     GEN                     ZUL   \n",
       "home_team_long_name                 KRC Genk        SV Zulte-Waregem   \n",
       "away_team_short_name                     BAC                     LOK   \n",
       "away_team_long_name             Beerschot AC        Sporting Lokeren   \n",
       "season                             2008/2009               2008/2009   \n",
       "stage                                      1                       1   \n",
       "date                     2008-08-17 00:00:00     2008-08-16 00:00:00   \n",
       "match_api_id                          492473                  492474   \n",
       "home_team_goal                             1                       0   \n",
       "away_team_goal                             1                       0   \n",
       "\n",
       "                                           2                       3  \\\n",
       "country_name                         Belgium                 Belgium   \n",
       "league_name           Belgium Jupiler League  Belgium Jupiler League   \n",
       "home_team_short_name                     CEB                     GEN   \n",
       "home_team_long_name        KSV Cercle Brugge                KAA Gent   \n",
       "away_team_short_name                     AND                     MON   \n",
       "away_team_long_name           RSC Anderlecht               RAEC Mons   \n",
       "season                             2008/2009               2008/2009   \n",
       "stage                                      1                       1   \n",
       "date                     2008-08-16 00:00:00     2008-08-17 00:00:00   \n",
       "match_api_id                          492475                  492476   \n",
       "home_team_goal                             0                       5   \n",
       "away_team_goal                             3                       0   \n",
       "\n",
       "                                           4                       5  \\\n",
       "country_name                         Belgium                 Belgium   \n",
       "league_name           Belgium Jupiler League  Belgium Jupiler League   \n",
       "home_team_short_name                     DEN                     MEC   \n",
       "home_team_long_name            FCV Dender EH             KV Mechelen   \n",
       "away_team_short_name                     STL                     CLB   \n",
       "away_team_long_name        Standard de Liège          Club Brugge KV   \n",
       "season                             2008/2009               2008/2009   \n",
       "stage                                      1                       1   \n",
       "date                     2008-08-16 00:00:00     2008-09-24 00:00:00   \n",
       "match_api_id                          492477                  492478   \n",
       "home_team_goal                             1                       1   \n",
       "away_team_goal                             3                       1   \n",
       "\n",
       "                                           6                       7  \\\n",
       "country_name                         Belgium                 Belgium   \n",
       "league_name           Belgium Jupiler League  Belgium Jupiler League   \n",
       "home_team_short_name                     ROS                     TUB   \n",
       "home_team_long_name            KSV Roeselare                  Tubize   \n",
       "away_team_short_name                     KOR                     MOU   \n",
       "away_team_long_name              KV Kortrijk    Royal Excel Mouscron   \n",
       "season                             2008/2009               2008/2009   \n",
       "stage                                      1                       1   \n",
       "date                     2008-08-16 00:00:00     2008-08-16 00:00:00   \n",
       "match_api_id                          492479                  492480   \n",
       "home_team_goal                             2                       1   \n",
       "away_team_goal                             2                       2   \n",
       "\n",
       "                                           8                       9  \n",
       "country_name                         Belgium                 Belgium  \n",
       "league_name           Belgium Jupiler League  Belgium Jupiler League  \n",
       "home_team_short_name                     WES                     CLB  \n",
       "home_team_long_name             KVC Westerlo          Club Brugge KV  \n",
       "away_team_short_name                     CHA                     KOR  \n",
       "away_team_long_name       Sporting Charleroi             KV Kortrijk  \n",
       "season                             2008/2009               2008/2009  \n",
       "stage                                      1                      10  \n",
       "date                     2008-08-16 00:00:00     2008-11-01 00:00:00  \n",
       "match_api_id                          492481                  492564  \n",
       "home_team_goal                             1                       4  \n",
       "away_team_goal                             0                       1  "
      ]
     },
     "execution_count": 99,
     "metadata": {},
     "output_type": "execute_result"
    }
   ],
   "source": [
    "soccer.head(10).T"
   ]
  },
  {
   "cell_type": "markdown",
   "metadata": {},
   "source": [
    "**Create new column: home team win indicator**"
   ]
  },
  {
   "cell_type": "code",
   "execution_count": 100,
   "metadata": {},
   "outputs": [],
   "source": [
    "soccer['home_team_wins'] = 0 "
   ]
  },
  {
   "cell_type": "code",
   "execution_count": 101,
   "metadata": {},
   "outputs": [
    {
     "data": {
      "text/html": [
       "<div>\n",
       "<style scoped>\n",
       "    .dataframe tbody tr th:only-of-type {\n",
       "        vertical-align: middle;\n",
       "    }\n",
       "\n",
       "    .dataframe tbody tr th {\n",
       "        vertical-align: top;\n",
       "    }\n",
       "\n",
       "    .dataframe thead th {\n",
       "        text-align: right;\n",
       "    }\n",
       "</style>\n",
       "<table border=\"1\" class=\"dataframe\">\n",
       "  <thead>\n",
       "    <tr style=\"text-align: right;\">\n",
       "      <th></th>\n",
       "      <th>0</th>\n",
       "      <th>1</th>\n",
       "      <th>2</th>\n",
       "      <th>3</th>\n",
       "      <th>4</th>\n",
       "    </tr>\n",
       "  </thead>\n",
       "  <tbody>\n",
       "    <tr>\n",
       "      <th>country_name</th>\n",
       "      <td>Belgium</td>\n",
       "      <td>Belgium</td>\n",
       "      <td>Belgium</td>\n",
       "      <td>Belgium</td>\n",
       "      <td>Belgium</td>\n",
       "    </tr>\n",
       "    <tr>\n",
       "      <th>league_name</th>\n",
       "      <td>Belgium Jupiler League</td>\n",
       "      <td>Belgium Jupiler League</td>\n",
       "      <td>Belgium Jupiler League</td>\n",
       "      <td>Belgium Jupiler League</td>\n",
       "      <td>Belgium Jupiler League</td>\n",
       "    </tr>\n",
       "    <tr>\n",
       "      <th>home_team_short_name</th>\n",
       "      <td>GEN</td>\n",
       "      <td>ZUL</td>\n",
       "      <td>CEB</td>\n",
       "      <td>GEN</td>\n",
       "      <td>DEN</td>\n",
       "    </tr>\n",
       "    <tr>\n",
       "      <th>home_team_long_name</th>\n",
       "      <td>KRC Genk</td>\n",
       "      <td>SV Zulte-Waregem</td>\n",
       "      <td>KSV Cercle Brugge</td>\n",
       "      <td>KAA Gent</td>\n",
       "      <td>FCV Dender EH</td>\n",
       "    </tr>\n",
       "    <tr>\n",
       "      <th>away_team_short_name</th>\n",
       "      <td>BAC</td>\n",
       "      <td>LOK</td>\n",
       "      <td>AND</td>\n",
       "      <td>MON</td>\n",
       "      <td>STL</td>\n",
       "    </tr>\n",
       "    <tr>\n",
       "      <th>away_team_long_name</th>\n",
       "      <td>Beerschot AC</td>\n",
       "      <td>Sporting Lokeren</td>\n",
       "      <td>RSC Anderlecht</td>\n",
       "      <td>RAEC Mons</td>\n",
       "      <td>Standard de Liège</td>\n",
       "    </tr>\n",
       "    <tr>\n",
       "      <th>season</th>\n",
       "      <td>2008/2009</td>\n",
       "      <td>2008/2009</td>\n",
       "      <td>2008/2009</td>\n",
       "      <td>2008/2009</td>\n",
       "      <td>2008/2009</td>\n",
       "    </tr>\n",
       "    <tr>\n",
       "      <th>stage</th>\n",
       "      <td>1</td>\n",
       "      <td>1</td>\n",
       "      <td>1</td>\n",
       "      <td>1</td>\n",
       "      <td>1</td>\n",
       "    </tr>\n",
       "    <tr>\n",
       "      <th>date</th>\n",
       "      <td>2008-08-17 00:00:00</td>\n",
       "      <td>2008-08-16 00:00:00</td>\n",
       "      <td>2008-08-16 00:00:00</td>\n",
       "      <td>2008-08-17 00:00:00</td>\n",
       "      <td>2008-08-16 00:00:00</td>\n",
       "    </tr>\n",
       "    <tr>\n",
       "      <th>match_api_id</th>\n",
       "      <td>492473</td>\n",
       "      <td>492474</td>\n",
       "      <td>492475</td>\n",
       "      <td>492476</td>\n",
       "      <td>492477</td>\n",
       "    </tr>\n",
       "    <tr>\n",
       "      <th>home_team_goal</th>\n",
       "      <td>1</td>\n",
       "      <td>0</td>\n",
       "      <td>0</td>\n",
       "      <td>5</td>\n",
       "      <td>1</td>\n",
       "    </tr>\n",
       "    <tr>\n",
       "      <th>away_team_goal</th>\n",
       "      <td>1</td>\n",
       "      <td>0</td>\n",
       "      <td>3</td>\n",
       "      <td>0</td>\n",
       "      <td>3</td>\n",
       "    </tr>\n",
       "    <tr>\n",
       "      <th>home_team_wins</th>\n",
       "      <td>0</td>\n",
       "      <td>0</td>\n",
       "      <td>0</td>\n",
       "      <td>0</td>\n",
       "      <td>0</td>\n",
       "    </tr>\n",
       "  </tbody>\n",
       "</table>\n",
       "</div>"
      ],
      "text/plain": [
       "                                           0                       1  \\\n",
       "country_name                         Belgium                 Belgium   \n",
       "league_name           Belgium Jupiler League  Belgium Jupiler League   \n",
       "home_team_short_name                     GEN                     ZUL   \n",
       "home_team_long_name                 KRC Genk        SV Zulte-Waregem   \n",
       "away_team_short_name                     BAC                     LOK   \n",
       "away_team_long_name             Beerschot AC        Sporting Lokeren   \n",
       "season                             2008/2009               2008/2009   \n",
       "stage                                      1                       1   \n",
       "date                     2008-08-17 00:00:00     2008-08-16 00:00:00   \n",
       "match_api_id                          492473                  492474   \n",
       "home_team_goal                             1                       0   \n",
       "away_team_goal                             1                       0   \n",
       "home_team_wins                             0                       0   \n",
       "\n",
       "                                           2                       3  \\\n",
       "country_name                         Belgium                 Belgium   \n",
       "league_name           Belgium Jupiler League  Belgium Jupiler League   \n",
       "home_team_short_name                     CEB                     GEN   \n",
       "home_team_long_name        KSV Cercle Brugge                KAA Gent   \n",
       "away_team_short_name                     AND                     MON   \n",
       "away_team_long_name           RSC Anderlecht               RAEC Mons   \n",
       "season                             2008/2009               2008/2009   \n",
       "stage                                      1                       1   \n",
       "date                     2008-08-16 00:00:00     2008-08-17 00:00:00   \n",
       "match_api_id                          492475                  492476   \n",
       "home_team_goal                             0                       5   \n",
       "away_team_goal                             3                       0   \n",
       "home_team_wins                             0                       0   \n",
       "\n",
       "                                           4  \n",
       "country_name                         Belgium  \n",
       "league_name           Belgium Jupiler League  \n",
       "home_team_short_name                     DEN  \n",
       "home_team_long_name            FCV Dender EH  \n",
       "away_team_short_name                     STL  \n",
       "away_team_long_name        Standard de Liège  \n",
       "season                             2008/2009  \n",
       "stage                                      1  \n",
       "date                     2008-08-16 00:00:00  \n",
       "match_api_id                          492477  \n",
       "home_team_goal                             1  \n",
       "away_team_goal                             3  \n",
       "home_team_wins                             0  "
      ]
     },
     "execution_count": 101,
     "metadata": {},
     "output_type": "execute_result"
    }
   ],
   "source": [
    "soccer.head().T"
   ]
  },
  {
   "cell_type": "code",
   "execution_count": 102,
   "metadata": {},
   "outputs": [],
   "source": [
    "soccer.loc[soccer['home_team_goal'] > soccer['away_team_goal'], \n",
    "           ['home_team_wins']] = 1 "
   ]
  },
  {
   "cell_type": "code",
   "execution_count": 103,
   "metadata": {},
   "outputs": [
    {
     "data": {
      "text/html": [
       "<div>\n",
       "<style scoped>\n",
       "    .dataframe tbody tr th:only-of-type {\n",
       "        vertical-align: middle;\n",
       "    }\n",
       "\n",
       "    .dataframe tbody tr th {\n",
       "        vertical-align: top;\n",
       "    }\n",
       "\n",
       "    .dataframe thead th {\n",
       "        text-align: right;\n",
       "    }\n",
       "</style>\n",
       "<table border=\"1\" class=\"dataframe\">\n",
       "  <thead>\n",
       "    <tr style=\"text-align: right;\">\n",
       "      <th></th>\n",
       "      <th>0</th>\n",
       "      <th>1</th>\n",
       "      <th>2</th>\n",
       "      <th>3</th>\n",
       "      <th>4</th>\n",
       "    </tr>\n",
       "  </thead>\n",
       "  <tbody>\n",
       "    <tr>\n",
       "      <th>country_name</th>\n",
       "      <td>Belgium</td>\n",
       "      <td>Belgium</td>\n",
       "      <td>Belgium</td>\n",
       "      <td>Belgium</td>\n",
       "      <td>Belgium</td>\n",
       "    </tr>\n",
       "    <tr>\n",
       "      <th>league_name</th>\n",
       "      <td>Belgium Jupiler League</td>\n",
       "      <td>Belgium Jupiler League</td>\n",
       "      <td>Belgium Jupiler League</td>\n",
       "      <td>Belgium Jupiler League</td>\n",
       "      <td>Belgium Jupiler League</td>\n",
       "    </tr>\n",
       "    <tr>\n",
       "      <th>home_team_short_name</th>\n",
       "      <td>GEN</td>\n",
       "      <td>ZUL</td>\n",
       "      <td>CEB</td>\n",
       "      <td>GEN</td>\n",
       "      <td>DEN</td>\n",
       "    </tr>\n",
       "    <tr>\n",
       "      <th>home_team_long_name</th>\n",
       "      <td>KRC Genk</td>\n",
       "      <td>SV Zulte-Waregem</td>\n",
       "      <td>KSV Cercle Brugge</td>\n",
       "      <td>KAA Gent</td>\n",
       "      <td>FCV Dender EH</td>\n",
       "    </tr>\n",
       "    <tr>\n",
       "      <th>away_team_short_name</th>\n",
       "      <td>BAC</td>\n",
       "      <td>LOK</td>\n",
       "      <td>AND</td>\n",
       "      <td>MON</td>\n",
       "      <td>STL</td>\n",
       "    </tr>\n",
       "    <tr>\n",
       "      <th>away_team_long_name</th>\n",
       "      <td>Beerschot AC</td>\n",
       "      <td>Sporting Lokeren</td>\n",
       "      <td>RSC Anderlecht</td>\n",
       "      <td>RAEC Mons</td>\n",
       "      <td>Standard de Liège</td>\n",
       "    </tr>\n",
       "    <tr>\n",
       "      <th>season</th>\n",
       "      <td>2008/2009</td>\n",
       "      <td>2008/2009</td>\n",
       "      <td>2008/2009</td>\n",
       "      <td>2008/2009</td>\n",
       "      <td>2008/2009</td>\n",
       "    </tr>\n",
       "    <tr>\n",
       "      <th>stage</th>\n",
       "      <td>1</td>\n",
       "      <td>1</td>\n",
       "      <td>1</td>\n",
       "      <td>1</td>\n",
       "      <td>1</td>\n",
       "    </tr>\n",
       "    <tr>\n",
       "      <th>date</th>\n",
       "      <td>2008-08-17 00:00:00</td>\n",
       "      <td>2008-08-16 00:00:00</td>\n",
       "      <td>2008-08-16 00:00:00</td>\n",
       "      <td>2008-08-17 00:00:00</td>\n",
       "      <td>2008-08-16 00:00:00</td>\n",
       "    </tr>\n",
       "    <tr>\n",
       "      <th>match_api_id</th>\n",
       "      <td>492473</td>\n",
       "      <td>492474</td>\n",
       "      <td>492475</td>\n",
       "      <td>492476</td>\n",
       "      <td>492477</td>\n",
       "    </tr>\n",
       "    <tr>\n",
       "      <th>home_team_goal</th>\n",
       "      <td>1</td>\n",
       "      <td>0</td>\n",
       "      <td>0</td>\n",
       "      <td>5</td>\n",
       "      <td>1</td>\n",
       "    </tr>\n",
       "    <tr>\n",
       "      <th>away_team_goal</th>\n",
       "      <td>1</td>\n",
       "      <td>0</td>\n",
       "      <td>3</td>\n",
       "      <td>0</td>\n",
       "      <td>3</td>\n",
       "    </tr>\n",
       "    <tr>\n",
       "      <th>home_team_wins</th>\n",
       "      <td>0</td>\n",
       "      <td>0</td>\n",
       "      <td>0</td>\n",
       "      <td>1</td>\n",
       "      <td>0</td>\n",
       "    </tr>\n",
       "  </tbody>\n",
       "</table>\n",
       "</div>"
      ],
      "text/plain": [
       "                                           0                       1  \\\n",
       "country_name                         Belgium                 Belgium   \n",
       "league_name           Belgium Jupiler League  Belgium Jupiler League   \n",
       "home_team_short_name                     GEN                     ZUL   \n",
       "home_team_long_name                 KRC Genk        SV Zulte-Waregem   \n",
       "away_team_short_name                     BAC                     LOK   \n",
       "away_team_long_name             Beerschot AC        Sporting Lokeren   \n",
       "season                             2008/2009               2008/2009   \n",
       "stage                                      1                       1   \n",
       "date                     2008-08-17 00:00:00     2008-08-16 00:00:00   \n",
       "match_api_id                          492473                  492474   \n",
       "home_team_goal                             1                       0   \n",
       "away_team_goal                             1                       0   \n",
       "home_team_wins                             0                       0   \n",
       "\n",
       "                                           2                       3  \\\n",
       "country_name                         Belgium                 Belgium   \n",
       "league_name           Belgium Jupiler League  Belgium Jupiler League   \n",
       "home_team_short_name                     CEB                     GEN   \n",
       "home_team_long_name        KSV Cercle Brugge                KAA Gent   \n",
       "away_team_short_name                     AND                     MON   \n",
       "away_team_long_name           RSC Anderlecht               RAEC Mons   \n",
       "season                             2008/2009               2008/2009   \n",
       "stage                                      1                       1   \n",
       "date                     2008-08-16 00:00:00     2008-08-17 00:00:00   \n",
       "match_api_id                          492475                  492476   \n",
       "home_team_goal                             0                       5   \n",
       "away_team_goal                             3                       0   \n",
       "home_team_wins                             0                       1   \n",
       "\n",
       "                                           4  \n",
       "country_name                         Belgium  \n",
       "league_name           Belgium Jupiler League  \n",
       "home_team_short_name                     DEN  \n",
       "home_team_long_name            FCV Dender EH  \n",
       "away_team_short_name                     STL  \n",
       "away_team_long_name        Standard de Liège  \n",
       "season                             2008/2009  \n",
       "stage                                      1  \n",
       "date                     2008-08-16 00:00:00  \n",
       "match_api_id                          492477  \n",
       "home_team_goal                             1  \n",
       "away_team_goal                             3  \n",
       "home_team_wins                             0  "
      ]
     },
     "execution_count": 103,
     "metadata": {},
     "output_type": "execute_result"
    }
   ],
   "source": [
    "soccer.head().T"
   ]
  },
  {
   "cell_type": "markdown",
   "metadata": {},
   "source": [
    "**Is there a statistical difference in the odds of winning a game when a team is playing in front of their home crowd?  \n",
    "Null Hypothesis: Home teams win less than or equal to  50% of the time.  \n",
    "Alternative : Home teams win more than 50%.  \n",
    "One-tail  \n",
    "Alpha: 0.025**\n"
   ]
  },
  {
   "cell_type": "markdown",
   "metadata": {},
   "source": [
    "**Total Games/Population = 25979  \n",
    "Take sample 1000 games, 100 trials; to calculate sample mean home wins.   \n",
    "Assuming probability of winning a home game is 50%. Therefor the mean of population home wins is 500.**   "
   ]
  },
  {
   "cell_type": "code",
   "execution_count": 104,
   "metadata": {},
   "outputs": [],
   "source": [
    "sample_size = 1000\n",
    "trials = 100"
   ]
  },
  {
   "cell_type": "code",
   "execution_count": 105,
   "metadata": {},
   "outputs": [],
   "source": [
    "np.random.seed(123)\n",
    "sample = np.random.choice(soccer['home_team_wins'], size=sample_size, \n",
    "                          replace=False)"
   ]
  },
  {
   "cell_type": "code",
   "execution_count": 106,
   "metadata": {},
   "outputs": [
    {
     "data": {
      "text/plain": [
       "473"
      ]
     },
     "execution_count": 106,
     "metadata": {},
     "output_type": "execute_result"
    }
   ],
   "source": [
    "sample_wins_trial = np.sum(sample)\n",
    "sample_wins_trial"
   ]
  },
  {
   "cell_type": "code",
   "execution_count": 107,
   "metadata": {},
   "outputs": [],
   "source": [
    "np.random.seed(123)\n",
    "sample_wins = []\n",
    "for _ in range(trials):\n",
    "    sample_wins.append(np.sum(np.random.choice(soccer['home_team_wins'], \n",
    "                                           size=sample_size, replace=False)))\n",
    "    "
   ]
  },
  {
   "cell_type": "code",
   "execution_count": 108,
   "metadata": {},
   "outputs": [
    {
     "data": {
      "text/plain": [
       "[473, 452, 459, 455, 473, 476, 462, 454, 461, 449]"
      ]
     },
     "execution_count": 108,
     "metadata": {},
     "output_type": "execute_result"
    }
   ],
   "source": [
    "sample_wins[:10]"
   ]
  },
  {
   "cell_type": "code",
   "execution_count": 109,
   "metadata": {},
   "outputs": [],
   "source": [
    "probability_home_win = .50\n",
    "population_mean = probability_home_win * sample_size\n",
    "alpha = 0.025"
   ]
  },
  {
   "cell_type": "code",
   "execution_count": 110,
   "metadata": {},
   "outputs": [
    {
     "name": "stdout",
     "output_type": "stream",
     "text": [
      "Null Hypothesis true.  t-value:  -26.498420571355574 p-value:  9.566056313878305e-47\n"
     ]
    }
   ],
   "source": [
    "custom.one_sample_ttest(sample_wins, population_mean, alpha=alpha)"
   ]
  },
  {
   "cell_type": "markdown",
   "metadata": {},
   "source": [
    "So we fail to reject the null hypothesis that home teams win less than or equal to 50% of the time. One of the main issues is that we assume the population win percentage is 50%, but that number fails to account for ties."
   ]
  },
  {
   "cell_type": "code",
   "execution_count": 113,
   "metadata": {},
   "outputs": [
    {
     "data": {
      "image/png": "[encoded data removed]",
      "text/plain": [
       "<Figure size 1152x576 with 1 Axes>"
      ]
     },
     "metadata": {},
     "output_type": "display_data"
    }
   ],
   "source": [
    "sns.set(rc={'figure.figsize':(16,8)})\n",
    "sns.distplot(sample_wins)\n",
    "plt.axvline(x=population_mean, color='red', label='pop mean')\n",
    "plt.title('Distribution of Home wins out of ' + str(sample_size), fontsize=16)\n",
    "plt.xlabel('Home Wins out of ' + str(sample_size), fontsize=14)\n",
    "plt.legend()\n",
    "plt.show()"
   ]
  },
  {
   "cell_type": "markdown",
   "metadata": {},
   "source": [
    "**Calculating Cohen's D**"
   ]
  },
  {
   "cell_type": "code",
   "execution_count": 112,
   "metadata": {},
   "outputs": [
    {
     "data": {
      "text/plain": [
       "-2.6498420571355576"
      ]
     },
     "execution_count": 112,
     "metadata": {},
     "output_type": "execute_result"
    }
   ],
   "source": [
    "cohen_d = (np.mean(sample_wins) - population_mean\n",
    "          ) / np.std(sample_wins, ddof=1)\n",
    "cohen_d"
   ]
  }
 ],
 "metadata": {
  "kernelspec": {
   "display_name": "learn-env",
   "language": "python",
   "name": "learn-env"
  },
  "language_info": {
   "codemirror_mode": {
    "name": "ipython",
    "version": 3
   },
   "file_extension": ".py",
   "mimetype": "text/x-python",
   "name": "python",
   "nbconvert_exporter": "python",
   "pygments_lexer": "ipython3",
   "version": "3.6.6"
  }
 },
 "nbformat": 4,
 "nbformat_minor": 2
}
