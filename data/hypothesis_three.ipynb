{
 "cells": [
  {
   "cell_type": "markdown",
   "metadata": {},
   "source": [
    "### Getting Data from PostgreSQL DB"
   ]
  },
  {
   "cell_type": "markdown",
   "metadata": {},
   "source": [
    "Prior to this we have successfull obtained our dataset from Kaggle and migrated it from a `sqlite` database to a `PostgreSQL` database. Now we can query from it using the `psycopg2` package."
   ]
  },
  {
   "cell_type": "markdown",
   "metadata": {},
   "source": [
    "#### Required Packages"
   ]
  },
  {
   "cell_type": "code",
   "execution_count": 2,
   "metadata": {},
   "outputs": [],
   "source": [
    "import pandas as pd       # Data manipulation\n",
    "import psycopg2           # Query against psql dbs\n",
    "import numpy as np        # math and arrays\n",
    "import matplotlib.pyplot as plt # plotting\n",
    "from scipy import stats   # stats\n",
    "import seaborn as sns     # prettier plotting"
   ]
  },
  {
   "cell_type": "markdown",
   "metadata": {},
   "source": [
    "#### Create Connection\n",
    "\n",
    "We stored out data in a `PostgreSQL` database named `soccer`."
   ]
  },
  {
   "cell_type": "code",
   "execution_count": 3,
   "metadata": {},
   "outputs": [],
   "source": [
    "conn = psycopg2.connect(\"dbname=soccer\")"
   ]
  },
  {
   "cell_type": "markdown",
   "metadata": {},
   "source": [
    "---"
   ]
  },
  {
   "cell_type": "markdown",
   "metadata": {},
   "source": [
    "### Set up queries\n",
    "\n",
    "We will write queries for each of our proposed hypothesis tests."
   ]
  },
  {
   "cell_type": "markdown",
   "metadata": {},
   "source": [
    "#### 3) Impact of height on heading accuracy."
   ]
  },
  {
   "cell_type": "markdown",
   "metadata": {},
   "source": [
    "We notice that the `player_attribute` table includes new attributes at regular intervals. For simplicity we will just take the average of the ratings."
   ]
  },
  {
   "cell_type": "code",
   "execution_count": 4,
   "metadata": {},
   "outputs": [],
   "source": [
    "query_3= \"\"\"\n",
    "    select\n",
    "        p.player_name\n",
    "        ,p.height\n",
    "        ,avg(pa.heading_accuracy) as heading_accur_avg\n",
    "    from\n",
    "        player p\n",
    "        inner join player_attributes pa on p.player_api_id = pa.player_api_id\n",
    "    group by\n",
    "        1,2\n",
    "    ;\n",
    "\"\"\""
   ]
  },
  {
   "cell_type": "markdown",
   "metadata": {},
   "source": [
    "---"
   ]
  },
  {
   "cell_type": "markdown",
   "metadata": {},
   "source": [
    "### Run queries, put contents into pandas DataFrame"
   ]
  },
  {
   "cell_type": "code",
   "execution_count": 5,
   "metadata": {},
   "outputs": [],
   "source": [
    "cur = conn.cursor()\n",
    "cur.execute(query_3)"
   ]
  },
  {
   "cell_type": "code",
   "execution_count": 6,
   "metadata": {},
   "outputs": [],
   "source": [
    "soccer = pd.DataFrame(cur.fetchall())\n",
    "soccer.columns = [desc[0] for desc in cur.description]"
   ]
  },
  {
   "cell_type": "code",
   "execution_count": 7,
   "metadata": {},
   "outputs": [
    {
     "data": {
      "text/html": [
       "<div>\n",
       "<style scoped>\n",
       "    .dataframe tbody tr th:only-of-type {\n",
       "        vertical-align: middle;\n",
       "    }\n",
       "\n",
       "    .dataframe tbody tr th {\n",
       "        vertical-align: top;\n",
       "    }\n",
       "\n",
       "    .dataframe thead th {\n",
       "        text-align: right;\n",
       "    }\n",
       "</style>\n",
       "<table border=\"1\" class=\"dataframe\">\n",
       "  <thead>\n",
       "    <tr style=\"text-align: right;\">\n",
       "      <th></th>\n",
       "      <th>0</th>\n",
       "      <th>1</th>\n",
       "      <th>2</th>\n",
       "      <th>3</th>\n",
       "      <th>4</th>\n",
       "      <th>5</th>\n",
       "      <th>6</th>\n",
       "      <th>7</th>\n",
       "      <th>8</th>\n",
       "      <th>9</th>\n",
       "    </tr>\n",
       "  </thead>\n",
       "  <tbody>\n",
       "    <tr>\n",
       "      <th>player_name</th>\n",
       "      <td>Dario Simic,25</td>\n",
       "      <td>Claude Makelele</td>\n",
       "      <td>Cedric</td>\n",
       "      <td>Arvydas Novikovas</td>\n",
       "      <td>Koen van de Laak</td>\n",
       "      <td>Mike Frantz</td>\n",
       "      <td>Jesper Joergensen</td>\n",
       "      <td>Ryan Conroy</td>\n",
       "      <td>Jaime</td>\n",
       "      <td>Sebastian Eguren</td>\n",
       "    </tr>\n",
       "    <tr>\n",
       "      <th>height</th>\n",
       "      <td>180.34</td>\n",
       "      <td>175.26</td>\n",
       "      <td>167.64</td>\n",
       "      <td>177.8</td>\n",
       "      <td>182.88</td>\n",
       "      <td>182.88</td>\n",
       "      <td>182.88</td>\n",
       "      <td>177.8</td>\n",
       "      <td>187.96</td>\n",
       "      <td>185.42</td>\n",
       "    </tr>\n",
       "    <tr>\n",
       "      <th>heading_accur_avg</th>\n",
       "      <td>76.0000000000000000</td>\n",
       "      <td>51.8571428571428571</td>\n",
       "      <td>41.3461538461538462</td>\n",
       "      <td>44.7272727272727273</td>\n",
       "      <td>64.7777777777777778</td>\n",
       "      <td>58.6060606060606061</td>\n",
       "      <td>51.8750000000000000</td>\n",
       "      <td>56.0000000000000000</td>\n",
       "      <td>26.1724137931034483</td>\n",
       "      <td>72.5263157894736842</td>\n",
       "    </tr>\n",
       "  </tbody>\n",
       "</table>\n",
       "</div>"
      ],
      "text/plain": [
       "                                     0                    1  \\\n",
       "player_name             Dario Simic,25      Claude Makelele   \n",
       "height                          180.34               175.26   \n",
       "heading_accur_avg  76.0000000000000000  51.8571428571428571   \n",
       "\n",
       "                                     2                    3  \\\n",
       "player_name                     Cedric    Arvydas Novikovas   \n",
       "height                          167.64                177.8   \n",
       "heading_accur_avg  41.3461538461538462  44.7272727272727273   \n",
       "\n",
       "                                     4                    5  \\\n",
       "player_name           Koen van de Laak          Mike Frantz   \n",
       "height                          182.88               182.88   \n",
       "heading_accur_avg  64.7777777777777778  58.6060606060606061   \n",
       "\n",
       "                                     6                    7  \\\n",
       "player_name          Jesper Joergensen          Ryan Conroy   \n",
       "height                          182.88                177.8   \n",
       "heading_accur_avg  51.8750000000000000  56.0000000000000000   \n",
       "\n",
       "                                     8                    9  \n",
       "player_name                      Jaime     Sebastian Eguren  \n",
       "height                          187.96               185.42  \n",
       "heading_accur_avg  26.1724137931034483  72.5263157894736842  "
      ]
     },
     "execution_count": 7,
     "metadata": {},
     "output_type": "execute_result"
    }
   ],
   "source": [
    "soccer.head(10).T"
   ]
  },
  {
   "cell_type": "markdown",
   "metadata": {},
   "source": [
    "### EDA and additional data cleaning"
   ]
  },
  {
   "cell_type": "code",
   "execution_count": 8,
   "metadata": {},
   "outputs": [
    {
     "data": {
      "text/html": [
       "<div>\n",
       "<style scoped>\n",
       "    .dataframe tbody tr th:only-of-type {\n",
       "        vertical-align: middle;\n",
       "    }\n",
       "\n",
       "    .dataframe tbody tr th {\n",
       "        vertical-align: top;\n",
       "    }\n",
       "\n",
       "    .dataframe thead th {\n",
       "        text-align: right;\n",
       "    }\n",
       "</style>\n",
       "<table border=\"1\" class=\"dataframe\">\n",
       "  <thead>\n",
       "    <tr style=\"text-align: right;\">\n",
       "      <th></th>\n",
       "      <th>player_name</th>\n",
       "      <th>height</th>\n",
       "      <th>heading_accur_avg</th>\n",
       "    </tr>\n",
       "  </thead>\n",
       "  <tbody>\n",
       "    <tr>\n",
       "      <th>count</th>\n",
       "      <td>11031</td>\n",
       "      <td>11031</td>\n",
       "      <td>11031</td>\n",
       "    </tr>\n",
       "    <tr>\n",
       "      <th>unique</th>\n",
       "      <td>10848</td>\n",
       "      <td>20</td>\n",
       "      <td>5475</td>\n",
       "    </tr>\n",
       "    <tr>\n",
       "      <th>top</th>\n",
       "      <td>Paulinho</td>\n",
       "      <td>182.88</td>\n",
       "      <td>52.0000000000000000</td>\n",
       "    </tr>\n",
       "    <tr>\n",
       "      <th>freq</th>\n",
       "      <td>5</td>\n",
       "      <td>1947</td>\n",
       "      <td>86</td>\n",
       "    </tr>\n",
       "  </tbody>\n",
       "</table>\n",
       "</div>"
      ],
      "text/plain": [
       "       player_name  height    heading_accur_avg\n",
       "count        11031   11031                11031\n",
       "unique       10848      20                 5475\n",
       "top       Paulinho  182.88  52.0000000000000000\n",
       "freq             5    1947                   86"
      ]
     },
     "execution_count": 8,
     "metadata": {},
     "output_type": "execute_result"
    }
   ],
   "source": [
    "soccer.describe()"
   ]
  },
  {
   "cell_type": "code",
   "execution_count": 9,
   "metadata": {},
   "outputs": [
    {
     "name": "stdout",
     "output_type": "stream",
     "text": [
      "<class 'pandas.core.frame.DataFrame'>\n",
      "RangeIndex: 11031 entries, 0 to 11030\n",
      "Data columns (total 3 columns):\n",
      "player_name          11031 non-null object\n",
      "height               11031 non-null object\n",
      "heading_accur_avg    11031 non-null object\n",
      "dtypes: object(3)\n",
      "memory usage: 258.6+ KB\n"
     ]
    }
   ],
   "source": [
    "soccer.info()"
   ]
  },
  {
   "cell_type": "code",
   "execution_count": 10,
   "metadata": {},
   "outputs": [],
   "source": [
    "soccer['height'] = soccer['height'].astype('float')"
   ]
  },
  {
   "cell_type": "code",
   "execution_count": 11,
   "metadata": {},
   "outputs": [],
   "source": [
    "soccer['heading_accur_avg'] = soccer['heading_accur_avg'].astype('float')"
   ]
  },
  {
   "cell_type": "code",
   "execution_count": 12,
   "metadata": {},
   "outputs": [
    {
     "name": "stdout",
     "output_type": "stream",
     "text": [
      "<class 'pandas.core.frame.DataFrame'>\n",
      "RangeIndex: 11031 entries, 0 to 11030\n",
      "Data columns (total 3 columns):\n",
      "player_name          11031 non-null object\n",
      "height               11031 non-null float64\n",
      "heading_accur_avg    11031 non-null float64\n",
      "dtypes: float64(2), object(1)\n",
      "memory usage: 258.6+ KB\n"
     ]
    }
   ],
   "source": [
    "soccer.info()"
   ]
  },
  {
   "cell_type": "markdown",
   "metadata": {},
   "source": [
    "Now would be a good time to revisit our initial hypothesis."
   ]
  },
  {
   "cell_type": "markdown",
   "metadata": {},
   "source": [
    "**Null:** There is no statistical difference in heading accuracy between Players 6 feet tall and above, and those below.  \n",
    "\n",
    "**Alternative:** Players 6 feet tall and above and those shorter have a statistically signficant difference in their heading accuracy.  \n",
    "\n",
    "This will be a **two-tail** test, and we will use **alpha = 0.05**\n"
   ]
  },
  {
   "cell_type": "markdown",
   "metadata": {},
   "source": [
    "We need a conversion for centimeters to feet:  \n",
    "The conversion is `1 cm` for `0.0328084 ft` "
   ]
  },
  {
   "cell_type": "code",
   "execution_count": 13,
   "metadata": {},
   "outputs": [],
   "source": [
    "INCHES_PER_CM = .0328084"
   ]
  },
  {
   "cell_type": "code",
   "execution_count": 14,
   "metadata": {},
   "outputs": [],
   "source": [
    "soccer['height_in_ft'] = soccer['height'] * INCHES_PER_CM"
   ]
  },
  {
   "cell_type": "code",
   "execution_count": 15,
   "metadata": {},
   "outputs": [
    {
     "data": {
      "text/plain": [
       "0    5.916667\n",
       "1    5.750000\n",
       "2    5.500000\n",
       "3    5.833334\n",
       "4    6.000000\n",
       "5    6.000000\n",
       "6    6.000000\n",
       "7    5.833334\n",
       "8    6.166667\n",
       "9    6.083334\n",
       "Name: height_in_ft, dtype: float64"
      ]
     },
     "execution_count": 15,
     "metadata": {},
     "output_type": "execute_result"
    }
   ],
   "source": [
    "# Let's check\n",
    "soccer['height_in_ft'].head(10)"
   ]
  },
  {
   "cell_type": "code",
   "execution_count": 16,
   "metadata": {},
   "outputs": [
    {
     "data": {
      "text/plain": [
       "<matplotlib.axes._subplots.AxesSubplot at 0x119d2c5f8>"
      ]
     },
     "execution_count": 16,
     "metadata": {},
     "output_type": "execute_result"
    },
    {
     "data": {
      "image/png": "[encoded data removed]",
      "text/plain": [
       "<Figure size 432x288 with 1 Axes>"
      ]
     },
     "metadata": {
      "needs_background": "light"
     },
     "output_type": "display_data"
    }
   ],
   "source": [
    "sns.distplot(soccer['height_in_ft'])"
   ]
  },
  {
   "cell_type": "code",
   "execution_count": 17,
   "metadata": {},
   "outputs": [],
   "source": [
    "tall = soccer[soccer.height_in_ft>=6]"
   ]
  },
  {
   "cell_type": "code",
   "execution_count": 18,
   "metadata": {},
   "outputs": [
    {
     "data": {
      "text/html": [
       "<div>\n",
       "<style scoped>\n",
       "    .dataframe tbody tr th:only-of-type {\n",
       "        vertical-align: middle;\n",
       "    }\n",
       "\n",
       "    .dataframe tbody tr th {\n",
       "        vertical-align: top;\n",
       "    }\n",
       "\n",
       "    .dataframe thead th {\n",
       "        text-align: right;\n",
       "    }\n",
       "</style>\n",
       "<table border=\"1\" class=\"dataframe\">\n",
       "  <thead>\n",
       "    <tr style=\"text-align: right;\">\n",
       "      <th></th>\n",
       "      <th>player_name</th>\n",
       "      <th>height</th>\n",
       "      <th>heading_accur_avg</th>\n",
       "      <th>height_in_ft</th>\n",
       "    </tr>\n",
       "  </thead>\n",
       "  <tbody>\n",
       "    <tr>\n",
       "      <th>4</th>\n",
       "      <td>Koen van de Laak</td>\n",
       "      <td>182.88</td>\n",
       "      <td>64.777778</td>\n",
       "      <td>6.000000</td>\n",
       "    </tr>\n",
       "    <tr>\n",
       "      <th>5</th>\n",
       "      <td>Mike Frantz</td>\n",
       "      <td>182.88</td>\n",
       "      <td>58.606061</td>\n",
       "      <td>6.000000</td>\n",
       "    </tr>\n",
       "    <tr>\n",
       "      <th>6</th>\n",
       "      <td>Jesper Joergensen</td>\n",
       "      <td>182.88</td>\n",
       "      <td>51.875000</td>\n",
       "      <td>6.000000</td>\n",
       "    </tr>\n",
       "    <tr>\n",
       "      <th>8</th>\n",
       "      <td>Jaime</td>\n",
       "      <td>187.96</td>\n",
       "      <td>26.172414</td>\n",
       "      <td>6.166667</td>\n",
       "    </tr>\n",
       "    <tr>\n",
       "      <th>9</th>\n",
       "      <td>Sebastian Eguren</td>\n",
       "      <td>185.42</td>\n",
       "      <td>72.526316</td>\n",
       "      <td>6.083334</td>\n",
       "    </tr>\n",
       "  </tbody>\n",
       "</table>\n",
       "</div>"
      ],
      "text/plain": [
       "         player_name  height  heading_accur_avg  height_in_ft\n",
       "4   Koen van de Laak  182.88          64.777778      6.000000\n",
       "5        Mike Frantz  182.88          58.606061      6.000000\n",
       "6  Jesper Joergensen  182.88          51.875000      6.000000\n",
       "8              Jaime  187.96          26.172414      6.166667\n",
       "9   Sebastian Eguren  185.42          72.526316      6.083334"
      ]
     },
     "execution_count": 18,
     "metadata": {},
     "output_type": "execute_result"
    }
   ],
   "source": [
    "tall.head()"
   ]
  },
  {
   "cell_type": "code",
   "execution_count": 19,
   "metadata": {},
   "outputs": [],
   "source": [
    "short = soccer[soccer.height_in_ft<6]"
   ]
  },
  {
   "cell_type": "code",
   "execution_count": 20,
   "metadata": {},
   "outputs": [
    {
     "data": {
      "text/html": [
       "<div>\n",
       "<style scoped>\n",
       "    .dataframe tbody tr th:only-of-type {\n",
       "        vertical-align: middle;\n",
       "    }\n",
       "\n",
       "    .dataframe tbody tr th {\n",
       "        vertical-align: top;\n",
       "    }\n",
       "\n",
       "    .dataframe thead th {\n",
       "        text-align: right;\n",
       "    }\n",
       "</style>\n",
       "<table border=\"1\" class=\"dataframe\">\n",
       "  <thead>\n",
       "    <tr style=\"text-align: right;\">\n",
       "      <th></th>\n",
       "      <th>player_name</th>\n",
       "      <th>height</th>\n",
       "      <th>heading_accur_avg</th>\n",
       "      <th>height_in_ft</th>\n",
       "    </tr>\n",
       "  </thead>\n",
       "  <tbody>\n",
       "    <tr>\n",
       "      <th>0</th>\n",
       "      <td>Dario Simic,25</td>\n",
       "      <td>180.34</td>\n",
       "      <td>76.000000</td>\n",
       "      <td>5.916667</td>\n",
       "    </tr>\n",
       "    <tr>\n",
       "      <th>1</th>\n",
       "      <td>Claude Makelele</td>\n",
       "      <td>175.26</td>\n",
       "      <td>51.857143</td>\n",
       "      <td>5.750000</td>\n",
       "    </tr>\n",
       "    <tr>\n",
       "      <th>2</th>\n",
       "      <td>Cedric</td>\n",
       "      <td>167.64</td>\n",
       "      <td>41.346154</td>\n",
       "      <td>5.500000</td>\n",
       "    </tr>\n",
       "    <tr>\n",
       "      <th>3</th>\n",
       "      <td>Arvydas Novikovas</td>\n",
       "      <td>177.80</td>\n",
       "      <td>44.727273</td>\n",
       "      <td>5.833334</td>\n",
       "    </tr>\n",
       "    <tr>\n",
       "      <th>7</th>\n",
       "      <td>Ryan Conroy</td>\n",
       "      <td>177.80</td>\n",
       "      <td>56.000000</td>\n",
       "      <td>5.833334</td>\n",
       "    </tr>\n",
       "  </tbody>\n",
       "</table>\n",
       "</div>"
      ],
      "text/plain": [
       "         player_name  height  heading_accur_avg  height_in_ft\n",
       "0     Dario Simic,25  180.34          76.000000      5.916667\n",
       "1    Claude Makelele  175.26          51.857143      5.750000\n",
       "2             Cedric  167.64          41.346154      5.500000\n",
       "3  Arvydas Novikovas  177.80          44.727273      5.833334\n",
       "7        Ryan Conroy  177.80          56.000000      5.833334"
      ]
     },
     "execution_count": 20,
     "metadata": {},
     "output_type": "execute_result"
    }
   ],
   "source": [
    "short.head()"
   ]
  },
  {
   "cell_type": "code",
   "execution_count": 21,
   "metadata": {},
   "outputs": [
    {
     "data": {
      "text/plain": [
       "11031"
      ]
     },
     "execution_count": 21,
     "metadata": {},
     "output_type": "execute_result"
    }
   ],
   "source": [
    "soccer.shape[0]\n"
   ]
  },
  {
   "cell_type": "code",
   "execution_count": 22,
   "metadata": {},
   "outputs": [
    {
     "data": {
      "text/plain": [
       "11031"
      ]
     },
     "execution_count": 22,
     "metadata": {},
     "output_type": "execute_result"
    }
   ],
   "source": [
    "tall.shape[0] + short.shape[0]"
   ]
  },
  {
   "cell_type": "code",
   "execution_count": 23,
   "metadata": {},
   "outputs": [
    {
     "name": "stdout",
     "output_type": "stream",
     "text": [
      "# rows in 'tall':5851\n",
      "# rows in 'short':5180\n"
     ]
    }
   ],
   "source": [
    "print(\"# rows in 'tall':\" + str(tall.shape[0]))\n",
    "print(\"# rows in 'short':\" + str(short.shape[0]))"
   ]
  },
  {
   "cell_type": "markdown",
   "metadata": {},
   "source": [
    "### Perform sampling"
   ]
  },
  {
   "cell_type": "code",
   "execution_count": 24,
   "metadata": {},
   "outputs": [],
   "source": [
    "# Intialize counts\n",
    "sample_size = 500\n",
    "samples = 100"
   ]
  },
  {
   "cell_type": "code",
   "execution_count": 25,
   "metadata": {},
   "outputs": [],
   "source": [
    "# Initialize lists to store average heading accuracies\n",
    "means_tall = []\n",
    "means_short = []\n",
    "\n",
    "# set seed \n",
    "np.random.seed(1999)\n",
    "\n",
    "# get samples and store average heading accuracies in list\n",
    "for _ in range(samples):\n",
    "    sample_tall = np.random.choice(tall['heading_accur_avg'], \n",
    "                       size=sample_size)\n",
    "    means_tall.append(np.mean(sample_tall))\n",
    "    \n",
    "    sample_short = np.random.choice(short['heading_accur_avg'], \n",
    "                       size=sample_size)\n",
    "    means_short.append(np.mean(sample_short))\n",
    "     "
   ]
  },
  {
   "cell_type": "code",
   "execution_count": 26,
   "metadata": {},
   "outputs": [
    {
     "name": "stdout",
     "output_type": "stream",
     "text": [
      "[56.83607022751281, 57.14871316997122, 58.497358741359335, 58.241687815072495, 58.60240652406622, 58.364574240611084, 58.317748701203975, 56.18953550707995, 56.45563493086505, 58.16043878566506]\n",
      "[54.49488000436459, 54.73637419132682, 54.19893339131413, 54.149148713534295, 53.04909331224618, 53.55558598013215, 53.898263809253294, 54.92895464693389, 54.304236238142146, 54.659418344136135]\n"
     ]
    }
   ],
   "source": [
    "print(means_tall[:10])\n",
    "print(means_short[:10])\n"
   ]
  },
  {
   "cell_type": "markdown",
   "metadata": {},
   "source": [
    "Let's visualize!"
   ]
  },
  {
   "cell_type": "code",
   "execution_count": 27,
   "metadata": {},
   "outputs": [
    {
     "data": {
      "image/png": "[encoded data removed]",
      "text/plain": [
       "<Figure size 1152x576 with 1 Axes>"
      ]
     },
     "metadata": {},
     "output_type": "display_data"
    }
   ],
   "source": [
    "sns.set(rc={'figure.figsize':(16,8)})\n",
    "sns.distplot(means_tall, label='>= 6ft tall')\n",
    "sns.distplot(means_short, label = '< 6ft tall')\n",
    "plt.legend()\n",
    "plt.title(\"Distributions of Avg Heading Accuracies\", fontsize = 16)\n",
    "plt.xlabel(\"Heading Accuracy Rating\", fontsize = 14)\n",
    "plt.show()"
   ]
  },
  {
   "cell_type": "markdown",
   "metadata": {},
   "source": [
    "### Perform two-sample t-test"
   ]
  },
  {
   "cell_type": "code",
   "execution_count": 28,
   "metadata": {},
   "outputs": [],
   "source": [
    "t_stat, p_value = stats.ttest_ind(means_tall, means_short)"
   ]
  },
  {
   "cell_type": "code",
   "execution_count": 29,
   "metadata": {},
   "outputs": [
    {
     "name": "stdout",
     "output_type": "stream",
     "text": [
      "The calculated t-statistic is 36.55\n",
      "The calculated p-value is 5.999999999999998e-90\n"
     ]
    }
   ],
   "source": [
    "print('The calculated t-statistic is {}'.format( round(t_stat, 2) ))\n",
    "print('The calculated p-value is {}'.format( round(p_value, 90) ))"
   ]
  },
  {
   "cell_type": "markdown",
   "metadata": {},
   "source": [
    "Wow. Since the p-value is virtually 0, we reject the null hypothesis at alpha = 0.05. Therefore, there appears to be a statistically significant relationship between `height` and `heading accuracy`."
   ]
  }
 ],
 "metadata": {
  "kernelspec": {
   "display_name": "learn-env",
   "language": "python",
   "name": "learn-env"
  },
  "language_info": {
   "codemirror_mode": {
    "name": "ipython",
    "version": 3
   },
   "file_extension": ".py",
   "mimetype": "text/x-python",
   "name": "python",
   "nbconvert_exporter": "python",
   "pygments_lexer": "ipython3",
   "version": "3.6.6"
  }
 },
 "nbformat": 4,
 "nbformat_minor": 2
}
